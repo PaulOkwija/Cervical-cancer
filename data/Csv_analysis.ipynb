{
 "cells": [
  {
   "cell_type": "code",
   "execution_count": 1,
   "metadata": {},
   "outputs": [],
   "source": [
    "import os\n",
    "import pandas as pd\n",
    "import json\n",
    "import tqdm\n",
    "import pandas as pd\n",
    "import urllib.request\n",
    "import cv2\n",
    "import numpy as np\n",
    "from PIL import Image, ImageDraw\n",
    "import matplotlib.pyplot as plt\n",
    "import shutil"
   ]
  },
  {
   "cell_type": "code",
   "execution_count": 2,
   "metadata": {},
   "outputs": [],
   "source": [
    "rev_1 = pd.read_csv('Reviewer_1.csv')\n",
    "rev_2 = pd.read_csv('Reviewer_2.csv')"
   ]
  },
  {
   "cell_type": "code",
   "execution_count": 3,
   "metadata": {},
   "outputs": [
    {
     "data": {
      "text/html": [
       "<div>\n",
       "<style scoped>\n",
       "    .dataframe tbody tr th:only-of-type {\n",
       "        vertical-align: middle;\n",
       "    }\n",
       "\n",
       "    .dataframe tbody tr th {\n",
       "        vertical-align: top;\n",
       "    }\n",
       "\n",
       "    .dataframe thead th {\n",
       "        text-align: right;\n",
       "    }\n",
       "</style>\n",
       "<table border=\"1\" class=\"dataframe\">\n",
       "  <thead>\n",
       "    <tr style=\"text-align: right;\">\n",
       "      <th></th>\n",
       "      <th>id</th>\n",
       "      <th>DataRow ID</th>\n",
       "      <th>Status</th>\n",
       "      <th>External ID</th>\n",
       "      <th>Agreement</th>\n",
       "      <th>Benchmark Agreement</th>\n",
       "      <th>Skipped</th>\n",
       "      <th>Mask_ID</th>\n",
       "    </tr>\n",
       "  </thead>\n",
       "  <tbody>\n",
       "    <tr>\n",
       "      <th>0</th>\n",
       "      <td>cksx1pm147ca10y9i9ewtd3sh</td>\n",
       "      <td>ckseaghtukied0ywvgzdp0ngs</td>\n",
       "      <td>cervical_cancer_positive</td>\n",
       "      <td>A053_1614933917020.png</td>\n",
       "      <td>-1.000000</td>\n",
       "      <td>-1</td>\n",
       "      <td>True</td>\n",
       "      <td>NaN</td>\n",
       "    </tr>\n",
       "    <tr>\n",
       "      <th>1</th>\n",
       "      <td>cksx1pnac7duf0y7nevz2bnhf</td>\n",
       "      <td>ckseaghtukiei0ywv8o1506gr</td>\n",
       "      <td>cervical_cancer_positive</td>\n",
       "      <td>A053_1614934171536.png</td>\n",
       "      <td>0.641540</td>\n",
       "      <td>-1</td>\n",
       "      <td>False</td>\n",
       "      <td>cksx20qpx000b266faqsm8afg</td>\n",
       "    </tr>\n",
       "    <tr>\n",
       "      <th>2</th>\n",
       "      <td>cksx1u8kq7cct0y9igsi71768</td>\n",
       "      <td>ckseaghtukien0ywvdfxb63ng</td>\n",
       "      <td>cervical_cancer_positive</td>\n",
       "      <td>A053_1614934709068.png</td>\n",
       "      <td>0.658529</td>\n",
       "      <td>-1</td>\n",
       "      <td>False</td>\n",
       "      <td>cksx264ju000h266f2yccx5aj</td>\n",
       "    </tr>\n",
       "    <tr>\n",
       "      <th>3</th>\n",
       "      <td>cksx228my7cgp0y9ighq9bude</td>\n",
       "      <td>ckseaghtukies0ywvcdb14nkz</td>\n",
       "      <td>cervical_cancer_positive</td>\n",
       "      <td>A065_1615971362168.png</td>\n",
       "      <td>-1.000000</td>\n",
       "      <td>-1</td>\n",
       "      <td>True</td>\n",
       "      <td>NaN</td>\n",
       "    </tr>\n",
       "    <tr>\n",
       "      <th>4</th>\n",
       "      <td>cksx26xu47e6i0y7ncqrp90tx</td>\n",
       "      <td>ckseaghtukiex0ywv3uta7pbn</td>\n",
       "      <td>cervical_cancer_positive</td>\n",
       "      <td>A065_1615971545890.png</td>\n",
       "      <td>-1.000000</td>\n",
       "      <td>-1</td>\n",
       "      <td>True</td>\n",
       "      <td>NaN</td>\n",
       "    </tr>\n",
       "  </tbody>\n",
       "</table>\n",
       "</div>"
      ],
      "text/plain": [
       "                          id                 DataRow ID  \\\n",
       "0  cksx1pm147ca10y9i9ewtd3sh  ckseaghtukied0ywvgzdp0ngs   \n",
       "1  cksx1pnac7duf0y7nevz2bnhf  ckseaghtukiei0ywv8o1506gr   \n",
       "2  cksx1u8kq7cct0y9igsi71768  ckseaghtukien0ywvdfxb63ng   \n",
       "3  cksx228my7cgp0y9ighq9bude  ckseaghtukies0ywvcdb14nkz   \n",
       "4  cksx26xu47e6i0y7ncqrp90tx  ckseaghtukiex0ywv3uta7pbn   \n",
       "\n",
       "                     Status             External ID  Agreement  \\\n",
       "0  cervical_cancer_positive  A053_1614933917020.png  -1.000000   \n",
       "1  cervical_cancer_positive  A053_1614934171536.png   0.641540   \n",
       "2  cervical_cancer_positive  A053_1614934709068.png   0.658529   \n",
       "3  cervical_cancer_positive  A065_1615971362168.png  -1.000000   \n",
       "4  cervical_cancer_positive  A065_1615971545890.png  -1.000000   \n",
       "\n",
       "   Benchmark Agreement  Skipped                    Mask_ID  \n",
       "0                   -1     True                        NaN  \n",
       "1                   -1    False  cksx20qpx000b266faqsm8afg  \n",
       "2                   -1    False  cksx264ju000h266f2yccx5aj  \n",
       "3                   -1     True                        NaN  \n",
       "4                   -1     True                        NaN  "
      ]
     },
     "execution_count": 3,
     "metadata": {},
     "output_type": "execute_result"
    }
   ],
   "source": [
    "rev_1.head()"
   ]
  },
  {
   "cell_type": "code",
   "execution_count": 4,
   "metadata": {},
   "outputs": [
    {
     "data": {
      "text/html": [
       "<div>\n",
       "<style scoped>\n",
       "    .dataframe tbody tr th:only-of-type {\n",
       "        vertical-align: middle;\n",
       "    }\n",
       "\n",
       "    .dataframe tbody tr th {\n",
       "        vertical-align: top;\n",
       "    }\n",
       "\n",
       "    .dataframe thead th {\n",
       "        text-align: right;\n",
       "    }\n",
       "</style>\n",
       "<table border=\"1\" class=\"dataframe\">\n",
       "  <thead>\n",
       "    <tr style=\"text-align: right;\">\n",
       "      <th></th>\n",
       "      <th>id</th>\n",
       "      <th>DataRow ID</th>\n",
       "      <th>Status</th>\n",
       "      <th>External ID</th>\n",
       "      <th>Agreement</th>\n",
       "      <th>Benchmark Agreement</th>\n",
       "      <th>Skipped</th>\n",
       "      <th>Mask_ID</th>\n",
       "    </tr>\n",
       "  </thead>\n",
       "  <tbody>\n",
       "    <tr>\n",
       "      <th>0</th>\n",
       "      <td>cksxews7a7zgn0y64bnho3e4z</td>\n",
       "      <td>ckseaghu0kiso0ywvgkvta9r5</td>\n",
       "      <td>cervical_cancer_positive</td>\n",
       "      <td>M071_1565687060188.png</td>\n",
       "      <td>-1</td>\n",
       "      <td>-1</td>\n",
       "      <td>False</td>\n",
       "      <td>cksxex9ru00003b6ar7bvgcoc</td>\n",
       "    </tr>\n",
       "    <tr>\n",
       "      <th>1</th>\n",
       "      <td>cksxewt5f7xdk0y7n117ucnm2</td>\n",
       "      <td>ckseaghu0kist0ywv09qvbg21</td>\n",
       "      <td>cervical_cancer_positive</td>\n",
       "      <td>M075_1565781393764.png</td>\n",
       "      <td>-1</td>\n",
       "      <td>-1</td>\n",
       "      <td>False</td>\n",
       "      <td>cksxf4g4j000e3b6ajua625wu</td>\n",
       "    </tr>\n",
       "    <tr>\n",
       "      <th>2</th>\n",
       "      <td>cksxezyio7zlo0y64hbzf3qu4</td>\n",
       "      <td>ckseaghu0kisy0ywvb7k3hs1e</td>\n",
       "      <td>cervical_cancer_positive</td>\n",
       "      <td>M075_1565781481957.png</td>\n",
       "      <td>-1</td>\n",
       "      <td>-1</td>\n",
       "      <td>True</td>\n",
       "      <td>NaN</td>\n",
       "    </tr>\n",
       "    <tr>\n",
       "      <th>3</th>\n",
       "      <td>cksxf8gnl7xup0y7nbk691u60</td>\n",
       "      <td>ckseaghu0kit30ywv2bwb5hhz</td>\n",
       "      <td>cervical_cancer_positive</td>\n",
       "      <td>M075_1565781696144.png</td>\n",
       "      <td>-1</td>\n",
       "      <td>-1</td>\n",
       "      <td>False</td>\n",
       "      <td>cksxfbgrq000o3b6agk3ju13o</td>\n",
       "    </tr>\n",
       "    <tr>\n",
       "      <th>4</th>\n",
       "      <td>cksxf9ol07zyx0y64bpgfc9wg</td>\n",
       "      <td>ckseaghu0kit80ywv46drgvf9</td>\n",
       "      <td>cervical_cancer_positive</td>\n",
       "      <td>M075_1565781731483.png</td>\n",
       "      <td>-1</td>\n",
       "      <td>-1</td>\n",
       "      <td>False</td>\n",
       "      <td>cksxfdkv3000s3b6a8038ihhp</td>\n",
       "    </tr>\n",
       "  </tbody>\n",
       "</table>\n",
       "</div>"
      ],
      "text/plain": [
       "                          id                 DataRow ID  \\\n",
       "0  cksxews7a7zgn0y64bnho3e4z  ckseaghu0kiso0ywvgkvta9r5   \n",
       "1  cksxewt5f7xdk0y7n117ucnm2  ckseaghu0kist0ywv09qvbg21   \n",
       "2  cksxezyio7zlo0y64hbzf3qu4  ckseaghu0kisy0ywvb7k3hs1e   \n",
       "3  cksxf8gnl7xup0y7nbk691u60  ckseaghu0kit30ywv2bwb5hhz   \n",
       "4  cksxf9ol07zyx0y64bpgfc9wg  ckseaghu0kit80ywv46drgvf9   \n",
       "\n",
       "                     Status             External ID  Agreement  \\\n",
       "0  cervical_cancer_positive  M071_1565687060188.png         -1   \n",
       "1  cervical_cancer_positive  M075_1565781393764.png         -1   \n",
       "2  cervical_cancer_positive  M075_1565781481957.png         -1   \n",
       "3  cervical_cancer_positive  M075_1565781696144.png         -1   \n",
       "4  cervical_cancer_positive  M075_1565781731483.png         -1   \n",
       "\n",
       "   Benchmark Agreement  Skipped                    Mask_ID  \n",
       "0                   -1    False  cksxex9ru00003b6ar7bvgcoc  \n",
       "1                   -1    False  cksxf4g4j000e3b6ajua625wu  \n",
       "2                   -1     True                        NaN  \n",
       "3                   -1    False  cksxfbgrq000o3b6agk3ju13o  \n",
       "4                   -1    False  cksxfdkv3000s3b6a8038ihhp  "
      ]
     },
     "execution_count": 4,
     "metadata": {},
     "output_type": "execute_result"
    }
   ],
   "source": [
    "rev_2.head()"
   ]
  },
  {
   "cell_type": "code",
   "execution_count": 5,
   "metadata": {},
   "outputs": [
    {
     "data": {
      "text/html": [
       "<div>\n",
       "<style scoped>\n",
       "    .dataframe tbody tr th:only-of-type {\n",
       "        vertical-align: middle;\n",
       "    }\n",
       "\n",
       "    .dataframe tbody tr th {\n",
       "        vertical-align: top;\n",
       "    }\n",
       "\n",
       "    .dataframe thead th {\n",
       "        text-align: right;\n",
       "    }\n",
       "</style>\n",
       "<table border=\"1\" class=\"dataframe\">\n",
       "  <thead>\n",
       "    <tr style=\"text-align: right;\">\n",
       "      <th></th>\n",
       "      <th>id</th>\n",
       "      <th>DataRow ID</th>\n",
       "      <th>Status</th>\n",
       "      <th>External ID</th>\n",
       "      <th>Mask_ID</th>\n",
       "    </tr>\n",
       "  </thead>\n",
       "  <tbody>\n",
       "    <tr>\n",
       "      <th>count</th>\n",
       "      <td>1082</td>\n",
       "      <td>1082</td>\n",
       "      <td>1082</td>\n",
       "      <td>1082</td>\n",
       "      <td>387</td>\n",
       "    </tr>\n",
       "    <tr>\n",
       "      <th>unique</th>\n",
       "      <td>1082</td>\n",
       "      <td>979</td>\n",
       "      <td>1</td>\n",
       "      <td>979</td>\n",
       "      <td>387</td>\n",
       "    </tr>\n",
       "    <tr>\n",
       "      <th>top</th>\n",
       "      <td>cksx1pm147ca10y9i9ewtd3sh</td>\n",
       "      <td>ckseaghtukied0ywvgzdp0ngs</td>\n",
       "      <td>cervical_cancer_positive</td>\n",
       "      <td>A053_1614933917020.png</td>\n",
       "      <td>cksx20qpx000b266faqsm8afg</td>\n",
       "    </tr>\n",
       "    <tr>\n",
       "      <th>freq</th>\n",
       "      <td>1</td>\n",
       "      <td>2</td>\n",
       "      <td>1082</td>\n",
       "      <td>2</td>\n",
       "      <td>1</td>\n",
       "    </tr>\n",
       "  </tbody>\n",
       "</table>\n",
       "</div>"
      ],
      "text/plain": [
       "                               id                 DataRow ID  \\\n",
       "count                        1082                       1082   \n",
       "unique                       1082                        979   \n",
       "top     cksx1pm147ca10y9i9ewtd3sh  ckseaghtukied0ywvgzdp0ngs   \n",
       "freq                            1                          2   \n",
       "\n",
       "                          Status             External ID  \\\n",
       "count                       1082                    1082   \n",
       "unique                         1                     979   \n",
       "top     cervical_cancer_positive  A053_1614933917020.png   \n",
       "freq                        1082                       2   \n",
       "\n",
       "                          Mask_ID  \n",
       "count                         387  \n",
       "unique                        387  \n",
       "top     cksx20qpx000b266faqsm8afg  \n",
       "freq                            1  "
      ]
     },
     "execution_count": 5,
     "metadata": {},
     "output_type": "execute_result"
    }
   ],
   "source": [
    "rev_1.describe(include = ['O'])"
   ]
  },
  {
   "cell_type": "code",
   "execution_count": 6,
   "metadata": {},
   "outputs": [
    {
     "data": {
      "text/plain": [
       "id                     1082\n",
       "DataRow ID              979\n",
       "Status                    1\n",
       "External ID             979\n",
       "Agreement                35\n",
       "Benchmark Agreement       1\n",
       "Skipped                   2\n",
       "Mask_ID                 387\n",
       "dtype: int64"
      ]
     },
     "execution_count": 6,
     "metadata": {},
     "output_type": "execute_result"
    }
   ],
   "source": [
    "rev_1.nunique()"
   ]
  },
  {
   "cell_type": "markdown",
   "metadata": {},
   "source": [
    "# Reviewer 1 remarks\n",
    "- We see that despite having more images, reviewer 1 had actually only 979 unique images\n",
    "- The number of labels obtained was only 387\n"
   ]
  },
  {
   "cell_type": "code",
   "execution_count": 7,
   "metadata": {},
   "outputs": [
    {
     "data": {
      "text/html": [
       "<div>\n",
       "<style scoped>\n",
       "    .dataframe tbody tr th:only-of-type {\n",
       "        vertical-align: middle;\n",
       "    }\n",
       "\n",
       "    .dataframe tbody tr th {\n",
       "        vertical-align: top;\n",
       "    }\n",
       "\n",
       "    .dataframe thead th {\n",
       "        text-align: right;\n",
       "    }\n",
       "</style>\n",
       "<table border=\"1\" class=\"dataframe\">\n",
       "  <thead>\n",
       "    <tr style=\"text-align: right;\">\n",
       "      <th></th>\n",
       "      <th>id</th>\n",
       "      <th>DataRow ID</th>\n",
       "      <th>Status</th>\n",
       "      <th>External ID</th>\n",
       "      <th>Mask_ID</th>\n",
       "    </tr>\n",
       "  </thead>\n",
       "  <tbody>\n",
       "    <tr>\n",
       "      <th>count</th>\n",
       "      <td>1045</td>\n",
       "      <td>1045</td>\n",
       "      <td>1045</td>\n",
       "      <td>1045</td>\n",
       "      <td>448</td>\n",
       "    </tr>\n",
       "    <tr>\n",
       "      <th>unique</th>\n",
       "      <td>1045</td>\n",
       "      <td>1045</td>\n",
       "      <td>1</td>\n",
       "      <td>1045</td>\n",
       "      <td>448</td>\n",
       "    </tr>\n",
       "    <tr>\n",
       "      <th>top</th>\n",
       "      <td>cksxews7a7zgn0y64bnho3e4z</td>\n",
       "      <td>ckseaghu0kiso0ywvgkvta9r5</td>\n",
       "      <td>cervical_cancer_positive</td>\n",
       "      <td>M071_1565687060188.png</td>\n",
       "      <td>cksxex9ru00003b6ar7bvgcoc</td>\n",
       "    </tr>\n",
       "    <tr>\n",
       "      <th>freq</th>\n",
       "      <td>1</td>\n",
       "      <td>1</td>\n",
       "      <td>1045</td>\n",
       "      <td>1</td>\n",
       "      <td>1</td>\n",
       "    </tr>\n",
       "  </tbody>\n",
       "</table>\n",
       "</div>"
      ],
      "text/plain": [
       "                               id                 DataRow ID  \\\n",
       "count                        1045                       1045   \n",
       "unique                       1045                       1045   \n",
       "top     cksxews7a7zgn0y64bnho3e4z  ckseaghu0kiso0ywvgkvta9r5   \n",
       "freq                            1                          1   \n",
       "\n",
       "                          Status             External ID  \\\n",
       "count                       1045                    1045   \n",
       "unique                         1                    1045   \n",
       "top     cervical_cancer_positive  M071_1565687060188.png   \n",
       "freq                        1045                       1   \n",
       "\n",
       "                          Mask_ID  \n",
       "count                         448  \n",
       "unique                        448  \n",
       "top     cksxex9ru00003b6ar7bvgcoc  \n",
       "freq                            1  "
      ]
     },
     "execution_count": 7,
     "metadata": {},
     "output_type": "execute_result"
    }
   ],
   "source": [
    "rev_2.describe(include = ['O'])"
   ]
  },
  {
   "cell_type": "code",
   "execution_count": 8,
   "metadata": {},
   "outputs": [
    {
     "data": {
      "text/plain": [
       "id                     1045\n",
       "DataRow ID             1045\n",
       "Status                    1\n",
       "External ID            1045\n",
       "Agreement                 1\n",
       "Benchmark Agreement       1\n",
       "Skipped                   2\n",
       "Mask_ID                 448\n",
       "dtype: int64"
      ]
     },
     "execution_count": 8,
     "metadata": {},
     "output_type": "execute_result"
    }
   ],
   "source": [
    "rev_2.nunique()"
   ]
  },
  {
   "cell_type": "markdown",
   "metadata": {},
   "source": [
    "# Reviewer 2 remarks\n",
    "- Reviewer had all 1045 unique images\n",
    "- The number of labels obtained was only 448"
   ]
  },
  {
   "cell_type": "markdown",
   "metadata": {},
   "source": [
    "### **Creating a list of image names**"
   ]
  },
  {
   "cell_type": "code",
   "execution_count": 9,
   "metadata": {},
   "outputs": [
    {
     "name": "stdout",
     "output_type": "stream",
     "text": [
      "1082\n"
     ]
    }
   ],
   "source": [
    "rev1_imgs = list(rev_1['External ID'])\n",
    "print(len(rev1_imgs))"
   ]
  },
  {
   "cell_type": "code",
   "execution_count": 10,
   "metadata": {},
   "outputs": [
    {
     "name": "stdout",
     "output_type": "stream",
     "text": [
      "1045\n"
     ]
    }
   ],
   "source": [
    "rev2_imgs = list(rev_2['External ID'])\n",
    "print(len(rev2_imgs))"
   ]
  },
  {
   "cell_type": "markdown",
   "metadata": {},
   "source": [
    "### **Obtaining list of those missing in reviewer_1 csv**"
   ]
  },
  {
   "cell_type": "code",
   "execution_count": 11,
   "metadata": {},
   "outputs": [
    {
     "data": {
      "text/plain": [
       "66"
      ]
     },
     "execution_count": 11,
     "metadata": {},
     "output_type": "execute_result"
    }
   ],
   "source": [
    "missing = []\n",
    "for item in rev2_imgs:\n",
    "    if item not in rev1_imgs:\n",
    "        missing.append(item)\n",
    "len(missing)"
   ]
  },
  {
   "cell_type": "markdown",
   "metadata": {},
   "source": [
    "### Reviewer 2 had 66 more unique images than reviewer 1"
   ]
  },
  {
   "cell_type": "markdown",
   "metadata": {},
   "source": [
    "### Analyzing number of unlabelled images"
   ]
  },
  {
   "cell_type": "code",
   "execution_count": 12,
   "metadata": {},
   "outputs": [
    {
     "data": {
      "text/plain": [
       "695"
      ]
     },
     "execution_count": 12,
     "metadata": {},
     "output_type": "execute_result"
    }
   ],
   "source": [
    "rev_1['Mask_ID'].isnull().sum()"
   ]
  },
  {
   "cell_type": "code",
   "execution_count": 13,
   "metadata": {},
   "outputs": [
    {
     "data": {
      "text/plain": [
       "597"
      ]
     },
     "execution_count": 13,
     "metadata": {},
     "output_type": "execute_result"
    }
   ],
   "source": [
    "rev_2['Mask_ID'].isnull().sum()"
   ]
  },
  {
   "cell_type": "code",
   "execution_count": 14,
   "metadata": {},
   "outputs": [
    {
     "data": {
      "text/plain": [
       "id                     695\n",
       "DataRow ID             639\n",
       "Status                   1\n",
       "External ID            639\n",
       "Agreement                2\n",
       "Benchmark Agreement      1\n",
       "Skipped                  1\n",
       "Mask_ID                  0\n",
       "dtype: int64"
      ]
     },
     "execution_count": 14,
     "metadata": {},
     "output_type": "execute_result"
    }
   ],
   "source": [
    "rev_1[rev_1['Mask_ID'].isnull()].nunique()"
   ]
  },
  {
   "cell_type": "markdown",
   "metadata": {},
   "source": [
    "### Observe that the multiple masks on a single image occur for images whose agreement is not -1"
   ]
  },
  {
   "cell_type": "code",
   "execution_count": 15,
   "metadata": {},
   "outputs": [
    {
     "data": {
      "text/plain": [
       "id                     320\n",
       "DataRow ID             320\n",
       "Status                   1\n",
       "External ID            320\n",
       "Agreement                1\n",
       "Benchmark Agreement      1\n",
       "Skipped                  1\n",
       "Mask_ID                320\n",
       "dtype: int64"
      ]
     },
     "execution_count": 15,
     "metadata": {},
     "output_type": "execute_result"
    }
   ],
   "source": [
    "rev_1[(rev_1['Agreement']==-1) & (rev_1['Mask_ID'].notnull() )].nunique()"
   ]
  },
  {
   "cell_type": "code",
   "execution_count": 16,
   "metadata": {},
   "outputs": [
    {
     "data": {
      "text/plain": [
       "id                     67\n",
       "DataRow ID             34\n",
       "Status                  1\n",
       "External ID            34\n",
       "Agreement              34\n",
       "Benchmark Agreement     1\n",
       "Skipped                 1\n",
       "Mask_ID                67\n",
       "dtype: int64"
      ]
     },
     "execution_count": 16,
     "metadata": {},
     "output_type": "execute_result"
    }
   ],
   "source": [
    "rev_1[(rev_1['Agreement']!=-1) & (rev_1['Mask_ID'].notnull() )].nunique()"
   ]
  },
  {
   "cell_type": "code",
   "execution_count": 17,
   "metadata": {},
   "outputs": [],
   "source": [
    "rev_1 = rev_1.drop(['DataRow ID','Status','Agreement', 'Benchmark Agreement','Skipped'],axis=1)\n",
    "rev_1 = rev_1.dropna()"
   ]
  },
  {
   "cell_type": "code",
   "execution_count": 18,
   "metadata": {},
   "outputs": [],
   "source": [
    "rev_2 = rev_2.drop(['DataRow ID','Status','Agreement', 'Benchmark Agreement','Skipped'],axis=1)\n",
    "rev_2 = rev_2.dropna()"
   ]
  },
  {
   "cell_type": "code",
   "execution_count": 34,
   "metadata": {},
   "outputs": [],
   "source": [
    "imgs = rev_1['External ID']\n",
    "final_rev_1 = pd.DataFrame()\n",
    "for item in rev_1['External ID']:\n",
    "    final = {}\n",
    "    masks = [None,None,None,None]\n",
    "    values = rev_1[rev_1['External ID']==item]['Mask_ID']\n",
    "    IDs = list(values)\n",
    "    for num in range(len(IDs)):\n",
    "        masks[num] = IDs[num]\n",
    "    final['Img_name'] = item\n",
    "    final['Mask1'] = masks[0]\n",
    "    final['Mask2'] = masks[1]\n",
    "    final['Mask3'] = masks[2]\n",
    "    final['Mask4'] = masks[3]\n",
    "    data = pd.DataFrame([final])\n",
    "    final_rev_1 = pd.concat([final_rev_1,data],ignore_index=True)"
   ]
  },
  {
   "cell_type": "code",
   "execution_count": 36,
   "metadata": {},
   "outputs": [
    {
     "data": {
      "text/html": [
       "<div>\n",
       "<style scoped>\n",
       "    .dataframe tbody tr th:only-of-type {\n",
       "        vertical-align: middle;\n",
       "    }\n",
       "\n",
       "    .dataframe tbody tr th {\n",
       "        vertical-align: top;\n",
       "    }\n",
       "\n",
       "    .dataframe thead th {\n",
       "        text-align: right;\n",
       "    }\n",
       "</style>\n",
       "<table border=\"1\" class=\"dataframe\">\n",
       "  <thead>\n",
       "    <tr style=\"text-align: right;\">\n",
       "      <th></th>\n",
       "      <th>Img_name</th>\n",
       "      <th>Mask1</th>\n",
       "      <th>Mask2</th>\n",
       "      <th>Mask3</th>\n",
       "      <th>Mask4</th>\n",
       "    </tr>\n",
       "  </thead>\n",
       "  <tbody>\n",
       "    <tr>\n",
       "      <th>0</th>\n",
       "      <td>A053_1614934171536.png</td>\n",
       "      <td>cksx20qpx000b266faqsm8afg</td>\n",
       "      <td>ckt2stelv005i266f5key9lsm</td>\n",
       "      <td>None</td>\n",
       "      <td>None</td>\n",
       "    </tr>\n",
       "    <tr>\n",
       "      <th>1</th>\n",
       "      <td>A053_1614934709068.png</td>\n",
       "      <td>cksx264ju000h266f2yccx5aj</td>\n",
       "      <td>ckt2stue7005k266fykrklgfc</td>\n",
       "      <td>None</td>\n",
       "      <td>None</td>\n",
       "    </tr>\n",
       "    <tr>\n",
       "      <th>2</th>\n",
       "      <td>A065_1615971661643.png</td>\n",
       "      <td>cksx2fvs3000j266fwval6rg0</td>\n",
       "      <td>ckt2sv4b3005m266fx4mpg0r1</td>\n",
       "      <td>None</td>\n",
       "      <td>None</td>\n",
       "    </tr>\n",
       "    <tr>\n",
       "      <th>3</th>\n",
       "      <td>A065_1615971902439.png</td>\n",
       "      <td>cksx2jaww000l266fxtegukgp</td>\n",
       "      <td>None</td>\n",
       "      <td>None</td>\n",
       "      <td>None</td>\n",
       "    </tr>\n",
       "    <tr>\n",
       "      <th>4</th>\n",
       "      <td>A087_1617961842943.png</td>\n",
       "      <td>cksx2rxm2000n266f2cuxdv4b</td>\n",
       "      <td>ckt2u956d005o266falanhu1z</td>\n",
       "      <td>None</td>\n",
       "      <td>None</td>\n",
       "    </tr>\n",
       "    <tr>\n",
       "      <th>...</th>\n",
       "      <td>...</td>\n",
       "      <td>...</td>\n",
       "      <td>...</td>\n",
       "      <td>...</td>\n",
       "      <td>...</td>\n",
       "    </tr>\n",
       "    <tr>\n",
       "      <th>382</th>\n",
       "      <td>M641_1625647191410.png</td>\n",
       "      <td>cku8fxw8t0009266hh2cz9jt0</td>\n",
       "      <td>None</td>\n",
       "      <td>None</td>\n",
       "      <td>None</td>\n",
       "    </tr>\n",
       "    <tr>\n",
       "      <th>383</th>\n",
       "      <td>M644_1625654505574.png</td>\n",
       "      <td>cku8g69pn000l266h7n4gca9m</td>\n",
       "      <td>None</td>\n",
       "      <td>None</td>\n",
       "      <td>None</td>\n",
       "    </tr>\n",
       "    <tr>\n",
       "      <th>384</th>\n",
       "      <td>M644_1625654542852.png</td>\n",
       "      <td>cku8g4das000i266hhutetlyq</td>\n",
       "      <td>None</td>\n",
       "      <td>None</td>\n",
       "      <td>None</td>\n",
       "    </tr>\n",
       "    <tr>\n",
       "      <th>385</th>\n",
       "      <td>M646_1625656611573.png</td>\n",
       "      <td>cku8gbnsc000r266hm7jomd4w</td>\n",
       "      <td>None</td>\n",
       "      <td>None</td>\n",
       "      <td>None</td>\n",
       "    </tr>\n",
       "    <tr>\n",
       "      <th>386</th>\n",
       "      <td>M646_1625656650414.png</td>\n",
       "      <td>cku8gdj6y000t266hg38flfob</td>\n",
       "      <td>None</td>\n",
       "      <td>None</td>\n",
       "      <td>None</td>\n",
       "    </tr>\n",
       "  </tbody>\n",
       "</table>\n",
       "<p>387 rows × 5 columns</p>\n",
       "</div>"
      ],
      "text/plain": [
       "                   Img_name                      Mask1  \\\n",
       "0    A053_1614934171536.png  cksx20qpx000b266faqsm8afg   \n",
       "1    A053_1614934709068.png  cksx264ju000h266f2yccx5aj   \n",
       "2    A065_1615971661643.png  cksx2fvs3000j266fwval6rg0   \n",
       "3    A065_1615971902439.png  cksx2jaww000l266fxtegukgp   \n",
       "4    A087_1617961842943.png  cksx2rxm2000n266f2cuxdv4b   \n",
       "..                      ...                        ...   \n",
       "382  M641_1625647191410.png  cku8fxw8t0009266hh2cz9jt0   \n",
       "383  M644_1625654505574.png  cku8g69pn000l266h7n4gca9m   \n",
       "384  M644_1625654542852.png  cku8g4das000i266hhutetlyq   \n",
       "385  M646_1625656611573.png  cku8gbnsc000r266hm7jomd4w   \n",
       "386  M646_1625656650414.png  cku8gdj6y000t266hg38flfob   \n",
       "\n",
       "                         Mask2 Mask3 Mask4  \n",
       "0    ckt2stelv005i266f5key9lsm  None  None  \n",
       "1    ckt2stue7005k266fykrklgfc  None  None  \n",
       "2    ckt2sv4b3005m266fx4mpg0r1  None  None  \n",
       "3                         None  None  None  \n",
       "4    ckt2u956d005o266falanhu1z  None  None  \n",
       "..                         ...   ...   ...  \n",
       "382                       None  None  None  \n",
       "383                       None  None  None  \n",
       "384                       None  None  None  \n",
       "385                       None  None  None  \n",
       "386                       None  None  None  \n",
       "\n",
       "[387 rows x 5 columns]"
      ]
     },
     "execution_count": 36,
     "metadata": {},
     "output_type": "execute_result"
    }
   ],
   "source": [
    "final_rev_1"
   ]
  },
  {
   "cell_type": "code",
   "execution_count": 39,
   "metadata": {},
   "outputs": [
    {
     "data": {
      "text/plain": [
       "Img_name    354\n",
       "Mask1       354\n",
       "Mask2        33\n",
       "Mask3         0\n",
       "Mask4         0\n",
       "dtype: int64"
      ]
     },
     "execution_count": 39,
     "metadata": {},
     "output_type": "execute_result"
    }
   ],
   "source": [
    "final_rev_1.nunique()"
   ]
  },
  {
   "cell_type": "code",
   "execution_count": 37,
   "metadata": {},
   "outputs": [],
   "source": [
    "imgs = rev_2['External ID']\n",
    "final_rev_2 = pd.DataFrame()\n",
    "for item in rev_2['External ID']:\n",
    "    final = {}\n",
    "    masks = [None,None,None,None]\n",
    "    values = rev_2[rev_2['External ID']==item]['Mask_ID']\n",
    "    IDs = list(values)\n",
    "    for num in range(len(IDs)):\n",
    "        masks[num] = IDs[num]\n",
    "    final['Img_name'] = item\n",
    "    final['Mask1'] = masks[0]\n",
    "    final['Mask2'] = masks[1]\n",
    "    final['Mask3'] = masks[2]\n",
    "    final['Mask4'] = masks[3]\n",
    "    data = pd.DataFrame([final])\n",
    "    final_rev_2 = pd.concat([final_rev_2,data],ignore_index=True)"
   ]
  },
  {
   "cell_type": "code",
   "execution_count": 41,
   "metadata": {},
   "outputs": [
    {
     "data": {
      "text/plain": [
       "Img_name    448\n",
       "Mask1       448\n",
       "Mask2         0\n",
       "Mask3         0\n",
       "Mask4         0\n",
       "dtype: int64"
      ]
     },
     "execution_count": 41,
     "metadata": {},
     "output_type": "execute_result"
    }
   ],
   "source": [
    "final_rev_2.nunique()"
   ]
  },
  {
   "cell_type": "code",
   "execution_count": 38,
   "metadata": {},
   "outputs": [
    {
     "data": {
      "text/html": [
       "<div>\n",
       "<style scoped>\n",
       "    .dataframe tbody tr th:only-of-type {\n",
       "        vertical-align: middle;\n",
       "    }\n",
       "\n",
       "    .dataframe tbody tr th {\n",
       "        vertical-align: top;\n",
       "    }\n",
       "\n",
       "    .dataframe thead th {\n",
       "        text-align: right;\n",
       "    }\n",
       "</style>\n",
       "<table border=\"1\" class=\"dataframe\">\n",
       "  <thead>\n",
       "    <tr style=\"text-align: right;\">\n",
       "      <th></th>\n",
       "      <th>Img_name</th>\n",
       "      <th>Mask1</th>\n",
       "      <th>Mask2</th>\n",
       "      <th>Mask3</th>\n",
       "      <th>Mask4</th>\n",
       "    </tr>\n",
       "  </thead>\n",
       "  <tbody>\n",
       "    <tr>\n",
       "      <th>0</th>\n",
       "      <td>M071_1565687060188.png</td>\n",
       "      <td>cksxex9ru00003b6ar7bvgcoc</td>\n",
       "      <td>None</td>\n",
       "      <td>None</td>\n",
       "      <td>None</td>\n",
       "    </tr>\n",
       "    <tr>\n",
       "      <th>1</th>\n",
       "      <td>M075_1565781393764.png</td>\n",
       "      <td>cksxf4g4j000e3b6ajua625wu</td>\n",
       "      <td>None</td>\n",
       "      <td>None</td>\n",
       "      <td>None</td>\n",
       "    </tr>\n",
       "    <tr>\n",
       "      <th>2</th>\n",
       "      <td>M075_1565781696144.png</td>\n",
       "      <td>cksxfbgrq000o3b6agk3ju13o</td>\n",
       "      <td>None</td>\n",
       "      <td>None</td>\n",
       "      <td>None</td>\n",
       "    </tr>\n",
       "    <tr>\n",
       "      <th>3</th>\n",
       "      <td>M075_1565781731483.png</td>\n",
       "      <td>cksxfdkv3000s3b6a8038ihhp</td>\n",
       "      <td>None</td>\n",
       "      <td>None</td>\n",
       "      <td>None</td>\n",
       "    </tr>\n",
       "    <tr>\n",
       "      <th>4</th>\n",
       "      <td>M086_1566802065084.png</td>\n",
       "      <td>cksxfsqzd000w3b6atn3zku3u</td>\n",
       "      <td>None</td>\n",
       "      <td>None</td>\n",
       "      <td>None</td>\n",
       "    </tr>\n",
       "    <tr>\n",
       "      <th>...</th>\n",
       "      <td>...</td>\n",
       "      <td>...</td>\n",
       "      <td>...</td>\n",
       "      <td>...</td>\n",
       "      <td>...</td>\n",
       "    </tr>\n",
       "    <tr>\n",
       "      <th>443</th>\n",
       "      <td>U395_1628149453778.png</td>\n",
       "      <td>cktk39t5b000d3a6b1sijz3rj</td>\n",
       "      <td>None</td>\n",
       "      <td>None</td>\n",
       "      <td>None</td>\n",
       "    </tr>\n",
       "    <tr>\n",
       "      <th>444</th>\n",
       "      <td>U410_1629112545914.png</td>\n",
       "      <td>cktk410yd00003a6bw53alfny</td>\n",
       "      <td>None</td>\n",
       "      <td>None</td>\n",
       "      <td>None</td>\n",
       "    </tr>\n",
       "    <tr>\n",
       "      <th>445</th>\n",
       "      <td>U411_1629115879773.png</td>\n",
       "      <td>cktk41rey00023a6bv1e7jfm1</td>\n",
       "      <td>None</td>\n",
       "      <td>None</td>\n",
       "      <td>None</td>\n",
       "    </tr>\n",
       "    <tr>\n",
       "      <th>446</th>\n",
       "      <td>U412_1629195478080.png</td>\n",
       "      <td>cktk437px00083a6bsjhhpk6c</td>\n",
       "      <td>None</td>\n",
       "      <td>None</td>\n",
       "      <td>None</td>\n",
       "    </tr>\n",
       "    <tr>\n",
       "      <th>447</th>\n",
       "      <td>U412_1629195540527.png</td>\n",
       "      <td>cktk44441000a3a6barsmj55v</td>\n",
       "      <td>None</td>\n",
       "      <td>None</td>\n",
       "      <td>None</td>\n",
       "    </tr>\n",
       "  </tbody>\n",
       "</table>\n",
       "<p>448 rows × 5 columns</p>\n",
       "</div>"
      ],
      "text/plain": [
       "                   Img_name                      Mask1 Mask2 Mask3 Mask4\n",
       "0    M071_1565687060188.png  cksxex9ru00003b6ar7bvgcoc  None  None  None\n",
       "1    M075_1565781393764.png  cksxf4g4j000e3b6ajua625wu  None  None  None\n",
       "2    M075_1565781696144.png  cksxfbgrq000o3b6agk3ju13o  None  None  None\n",
       "3    M075_1565781731483.png  cksxfdkv3000s3b6a8038ihhp  None  None  None\n",
       "4    M086_1566802065084.png  cksxfsqzd000w3b6atn3zku3u  None  None  None\n",
       "..                      ...                        ...   ...   ...   ...\n",
       "443  U395_1628149453778.png  cktk39t5b000d3a6b1sijz3rj  None  None  None\n",
       "444  U410_1629112545914.png  cktk410yd00003a6bw53alfny  None  None  None\n",
       "445  U411_1629115879773.png  cktk41rey00023a6bv1e7jfm1  None  None  None\n",
       "446  U412_1629195478080.png  cktk437px00083a6bsjhhpk6c  None  None  None\n",
       "447  U412_1629195540527.png  cktk44441000a3a6barsmj55v  None  None  None\n",
       "\n",
       "[448 rows x 5 columns]"
      ]
     },
     "execution_count": 38,
     "metadata": {},
     "output_type": "execute_result"
    }
   ],
   "source": [
    "final_rev_2"
   ]
  },
  {
   "cell_type": "code",
   "execution_count": 42,
   "metadata": {},
   "outputs": [],
   "source": [
    "final_rev_1 = final_rev_1.drop(['Mask3','Mask4'],axis=1)\n",
    "pd.DataFrame.to_csv(final_rev_1,'final_reviewer_1.csv',index=False)"
   ]
  },
  {
   "cell_type": "code",
   "execution_count": 43,
   "metadata": {},
   "outputs": [],
   "source": [
    "final_rev_2 = final_rev_2.drop(['Mask2','Mask3','Mask4'],axis=1)\n",
    "pd.DataFrame.to_csv(final_rev_2,'final_reviewer_2.csv',index=False)"
   ]
  },
  {
   "cell_type": "code",
   "execution_count": null,
   "metadata": {},
   "outputs": [],
   "source": []
  }
 ],
 "metadata": {
  "kernelspec": {
   "display_name": "Python 3",
   "language": "python",
   "name": "python3"
  },
  "language_info": {
   "codemirror_mode": {
    "name": "ipython",
    "version": 3
   },
   "file_extension": ".py",
   "mimetype": "text/x-python",
   "name": "python",
   "nbconvert_exporter": "python",
   "pygments_lexer": "ipython3",
   "version": "3.8.5"
  }
 },
 "nbformat": 4,
 "nbformat_minor": 4
}
